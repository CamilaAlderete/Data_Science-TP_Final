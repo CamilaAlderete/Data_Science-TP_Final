{
 "cells": [
  {
   "cell_type": "markdown",
   "id": "984b8df1",
   "metadata": {},
   "source": []
  },
  {
   "cell_type": "markdown",
   "id": "e1ec39d2",
   "metadata": {},
   "source": [
    "https://scikit-learn.org/stable/modules/generated/sklearn.ensemble.VotingClassifier.html\n",
    "\n",
    "https://www.geeksforgeeks.org/ml-voting-classifier-using-sklearn/\n",
    "\n",
    "https://medium.com/swlh/will-your-app-be-a-success-in-the-google-play-store-108c690f1421\n",
    "\n",
    "https://www.researchgate.net/publication/343769728_Analysis_of_Google_Play_Store_Data_set_and_predict_the_popularity_of_an_app_on_Google_Play_Store\n",
    "\n",
    "\n",
    "\n"
   ]
  },
  {
   "cell_type": "code",
   "execution_count": 2,
   "id": "586a3527",
   "metadata": {},
   "outputs": [],
   "source": [
    "import pandas as pd\n",
    "import numpy as np \n",
    "\n",
    "import matplotlib.pyplot as plt\n",
    "\n",
    "from sklearn.tree import DecisionTreeClassifier #arbol de decisiones\n",
    "from sklearn.ensemble import RandomForestClassifier\n",
    "from sklearn.naive_bayes import GaussianNB\n",
    "\n",
    "from sklearn.ensemble import GradientBoostingClassifier\n",
    "from xgboost import XGBClassifier\n",
    "\n",
    "\n",
    "import seaborn as sns\n",
    "\n",
    "from sklearn import metrics\n",
    "\n",
    "from sklearn.model_selection import train_test_split #particionar datos para entrenamiento y test\n",
    "from sklearn.model_selection import cross_val_score\n",
    "\n",
    "from sklearn.metrics import confusion_matrix #matriz de confusion\n",
    "from sklearn.metrics import plot_confusion_matrix #graficar matriz de confusion\n",
    "from sklearn.metrics import accuracy_score, precision_score, recall_score\n",
    "\n",
    "from sklearn.metrics import classification_report, plot_roc_curve\n",
    "from sklearn.metrics import PrecisionRecallDisplay\n",
    "\n",
    "from sklearn.model_selection import GridSearchCV\n",
    "from sklearn.ensemble import VotingClassifier\n",
    "\n"
   ]
  },
  {
   "cell_type": "code",
   "execution_count": 2,
   "id": "4e167ed9",
   "metadata": {},
   "outputs": [],
   "source": [
    "#import sys\n",
    "#!{sys.executable} -m pip install --upgrade scikit-learn"
   ]
  },
  {
   "cell_type": "code",
   "execution_count": 3,
   "id": "95624512",
   "metadata": {},
   "outputs": [],
   "source": [
    "df =  pd.read_csv('Google-Playstore.csv')"
   ]
  },
  {
   "cell_type": "code",
   "execution_count": 5,
   "id": "c9718074",
   "metadata": {},
   "outputs": [
    {
     "data": {
      "text/html": [
       "<div>\n",
       "<style scoped>\n",
       "    .dataframe tbody tr th:only-of-type {\n",
       "        vertical-align: middle;\n",
       "    }\n",
       "\n",
       "    .dataframe tbody tr th {\n",
       "        vertical-align: top;\n",
       "    }\n",
       "\n",
       "    .dataframe thead th {\n",
       "        text-align: right;\n",
       "    }\n",
       "</style>\n",
       "<table border=\"1\" class=\"dataframe\">\n",
       "  <thead>\n",
       "    <tr style=\"text-align: right;\">\n",
       "      <th></th>\n",
       "      <th>App Name</th>\n",
       "      <th>Installs</th>\n",
       "      <th>Minimum Installs</th>\n",
       "      <th>Maximum Installs</th>\n",
       "      <th>Content Rating</th>\n",
       "      <th>Price</th>\n",
       "      <th>Minimum Android</th>\n",
       "    </tr>\n",
       "  </thead>\n",
       "  <tbody>\n",
       "    <tr>\n",
       "      <th>0</th>\n",
       "      <td>Gakondo</td>\n",
       "      <td>10+</td>\n",
       "      <td>10.0</td>\n",
       "      <td>15</td>\n",
       "      <td>Everyone</td>\n",
       "      <td>0.0</td>\n",
       "      <td>7.1 and up</td>\n",
       "    </tr>\n",
       "    <tr>\n",
       "      <th>1</th>\n",
       "      <td>Ampere Battery Info</td>\n",
       "      <td>5,000+</td>\n",
       "      <td>5000.0</td>\n",
       "      <td>7662</td>\n",
       "      <td>Everyone</td>\n",
       "      <td>0.0</td>\n",
       "      <td>5.0 and up</td>\n",
       "    </tr>\n",
       "    <tr>\n",
       "      <th>2</th>\n",
       "      <td>Vibook</td>\n",
       "      <td>50+</td>\n",
       "      <td>50.0</td>\n",
       "      <td>58</td>\n",
       "      <td>Everyone</td>\n",
       "      <td>0.0</td>\n",
       "      <td>4.0.3 and up</td>\n",
       "    </tr>\n",
       "    <tr>\n",
       "      <th>3</th>\n",
       "      <td>Smart City Trichy Public Service Vehicles 17UC...</td>\n",
       "      <td>10+</td>\n",
       "      <td>10.0</td>\n",
       "      <td>19</td>\n",
       "      <td>Everyone</td>\n",
       "      <td>0.0</td>\n",
       "      <td>4.0.3 and up</td>\n",
       "    </tr>\n",
       "    <tr>\n",
       "      <th>4</th>\n",
       "      <td>GROW.me</td>\n",
       "      <td>100+</td>\n",
       "      <td>100.0</td>\n",
       "      <td>478</td>\n",
       "      <td>Everyone</td>\n",
       "      <td>0.0</td>\n",
       "      <td>4.1 and up</td>\n",
       "    </tr>\n",
       "    <tr>\n",
       "      <th>5</th>\n",
       "      <td>IMOCCI</td>\n",
       "      <td>50+</td>\n",
       "      <td>50.0</td>\n",
       "      <td>89</td>\n",
       "      <td>Teen</td>\n",
       "      <td>0.0</td>\n",
       "      <td>6.0 and up</td>\n",
       "    </tr>\n",
       "  </tbody>\n",
       "</table>\n",
       "</div>"
      ],
      "text/plain": [
       "                                            App Name Installs  \\\n",
       "0                                            Gakondo      10+   \n",
       "1                                Ampere Battery Info   5,000+   \n",
       "2                                             Vibook      50+   \n",
       "3  Smart City Trichy Public Service Vehicles 17UC...      10+   \n",
       "4                                            GROW.me     100+   \n",
       "5                                             IMOCCI      50+   \n",
       "\n",
       "   Minimum Installs  Maximum Installs Content Rating  Price Minimum Android  \n",
       "0              10.0                15       Everyone    0.0      7.1 and up  \n",
       "1            5000.0              7662       Everyone    0.0      5.0 and up  \n",
       "2              50.0                58       Everyone    0.0    4.0.3 and up  \n",
       "3              10.0                19       Everyone    0.0    4.0.3 and up  \n",
       "4             100.0               478       Everyone    0.0      4.1 and up  \n",
       "5              50.0                89           Teen    0.0      6.0 and up  "
      ]
     },
     "execution_count": 5,
     "metadata": {},
     "output_type": "execute_result"
    }
   ],
   "source": [
    "df.loc[:5, ['App Name', 'Installs','Minimum Installs','Maximum Installs','Content Rating','Price', 'Minimum Android']]"
   ]
  },
  {
   "cell_type": "code",
   "execution_count": 6,
   "id": "720750cf",
   "metadata": {},
   "outputs": [],
   "source": [
    "#eliminar duplicados \n",
    "apps = df.copy()\n",
    "apps = apps.drop_duplicates()\n"
   ]
  },
  {
   "cell_type": "code",
   "execution_count": 7,
   "id": "1f0583a3",
   "metadata": {},
   "outputs": [
    {
     "data": {
      "text/plain": [
       "App Name                  2\n",
       "App Id                    0\n",
       "Category                  0\n",
       "Rating                22883\n",
       "Rating Count          22883\n",
       "Installs                107\n",
       "Minimum Installs        107\n",
       "Maximum Installs          0\n",
       "Free                      0\n",
       "Price                     0\n",
       "Currency                135\n",
       "Size                    196\n",
       "Minimum Android        6530\n",
       "Developer Id             33\n",
       "Developer Website    760835\n",
       "Developer Email          31\n",
       "Released              71053\n",
       "Last Updated              0\n",
       "Content Rating            0\n",
       "Privacy Policy       420953\n",
       "Ad Supported              0\n",
       "In App Purchases          0\n",
       "Editors Choice            0\n",
       "Scraped Time              0\n",
       "dtype: int64"
      ]
     },
     "execution_count": 7,
     "metadata": {},
     "output_type": "execute_result"
    }
   ],
   "source": [
    "#visualizar nulos\n",
    "apps.isnull().sum()"
   ]
  },
  {
   "cell_type": "code",
   "execution_count": 8,
   "id": "c3f8b9a2",
   "metadata": {},
   "outputs": [
    {
     "data": {
      "text/plain": [
       "App Name                  2\n",
       "App Id                    0\n",
       "Category                  0\n",
       "Rating                    0\n",
       "Rating Count              0\n",
       "Installs                  0\n",
       "Minimum Installs          0\n",
       "Maximum Installs          0\n",
       "Free                      0\n",
       "Price                     0\n",
       "Currency                 20\n",
       "Size                      0\n",
       "Minimum Android           0\n",
       "Developer Id             32\n",
       "Developer Website    749299\n",
       "Developer Email          31\n",
       "Released              48204\n",
       "Last Updated              0\n",
       "Content Rating            0\n",
       "Privacy Policy       412453\n",
       "Ad Supported              0\n",
       "In App Purchases          0\n",
       "Editors Choice            0\n",
       "Scraped Time              0\n",
       "dtype: int64"
      ]
     },
     "execution_count": 8,
     "metadata": {},
     "output_type": "execute_result"
    }
   ],
   "source": [
    "#nos interesan las columnas Category, Minimum Installs, Content Rating por lo que no deben contener nulos\n",
    "#eliminar nulos\n",
    "\n",
    "apps = apps.drop(apps[apps['Category'].isnull()].index, axis=0)\n",
    "apps = apps.drop(apps[apps['Minimum Installs'].isnull()].index, axis=0)\n",
    "apps = apps.drop(apps[apps['Rating'].isnull()].index, axis=0)\n",
    "apps = apps.drop(apps[apps['Content Rating'].isnull()].index, axis=0)\n",
    "apps = apps.drop(apps[apps['Rating Count'].isnull()].index, axis=0)\n",
    "apps = apps.drop(apps[apps['Free'].isnull()].index, axis=0)\n",
    "apps = apps.drop(apps[apps['In App Purchases'].isnull()].index, axis=0)\n",
    "apps = apps.drop(apps[apps['Ad Supported'].isnull()].index, axis=0)\n",
    "apps = apps.drop(apps[apps['Minimum Android'].isnull()].index, axis=0)\n",
    "\n",
    "apps.isnull().sum()"
   ]
  },
  {
   "cell_type": "code",
   "execution_count": 9,
   "id": "ce068c43",
   "metadata": {},
   "outputs": [],
   "source": [
    "#minimum installs es la cota inferior y es del tipo float64\n",
    "#maximum installs es el nro real de instalaciones (varia mucho para usarlo en el entranamiento del modelo)\n",
    "\n",
    "#ordenar app por nro de instalaciones\n",
    "vista = apps.sort_values(by=\"Minimum Installs\",ascending=False)\n",
    "vista.reset_index(inplace=True)\n",
    "vista.drop([\"index\"],axis=1,inplace=True)\n"
   ]
  },
  {
   "cell_type": "markdown",
   "id": "81ac51cf",
   "metadata": {},
   "source": [
    "### Las Apps mas descargadas"
   ]
  },
  {
   "cell_type": "code",
   "execution_count": 11,
   "id": "93f0adf6",
   "metadata": {
    "scrolled": true
   },
   "outputs": [
    {
     "data": {
      "text/html": [
       "<div>\n",
       "<style scoped>\n",
       "    .dataframe tbody tr th:only-of-type {\n",
       "        vertical-align: middle;\n",
       "    }\n",
       "\n",
       "    .dataframe tbody tr th {\n",
       "        vertical-align: top;\n",
       "    }\n",
       "\n",
       "    .dataframe thead th {\n",
       "        text-align: right;\n",
       "    }\n",
       "</style>\n",
       "<table border=\"1\" class=\"dataframe\">\n",
       "  <thead>\n",
       "    <tr style=\"text-align: right;\">\n",
       "      <th></th>\n",
       "      <th>App Name</th>\n",
       "      <th>Category</th>\n",
       "      <th>Rating</th>\n",
       "      <th>Content Rating</th>\n",
       "      <th>Minimum Installs</th>\n",
       "    </tr>\n",
       "  </thead>\n",
       "  <tbody>\n",
       "    <tr>\n",
       "      <th>0</th>\n",
       "      <td>Google Play services</td>\n",
       "      <td>Tools</td>\n",
       "      <td>4.2</td>\n",
       "      <td>Everyone</td>\n",
       "      <td>1.000000e+10</td>\n",
       "    </tr>\n",
       "    <tr>\n",
       "      <th>1</th>\n",
       "      <td>Google</td>\n",
       "      <td>Tools</td>\n",
       "      <td>4.2</td>\n",
       "      <td>Everyone</td>\n",
       "      <td>5.000000e+09</td>\n",
       "    </tr>\n",
       "    <tr>\n",
       "      <th>2</th>\n",
       "      <td>YouTube</td>\n",
       "      <td>Video Players &amp; Editors</td>\n",
       "      <td>4.4</td>\n",
       "      <td>Teen</td>\n",
       "      <td>5.000000e+09</td>\n",
       "    </tr>\n",
       "    <tr>\n",
       "      <th>3</th>\n",
       "      <td>Android Accessibility Suite</td>\n",
       "      <td>Tools</td>\n",
       "      <td>4.2</td>\n",
       "      <td>Everyone</td>\n",
       "      <td>5.000000e+09</td>\n",
       "    </tr>\n",
       "    <tr>\n",
       "      <th>4</th>\n",
       "      <td>Gmail</td>\n",
       "      <td>Communication</td>\n",
       "      <td>4.2</td>\n",
       "      <td>Everyone</td>\n",
       "      <td>5.000000e+09</td>\n",
       "    </tr>\n",
       "    <tr>\n",
       "      <th>5</th>\n",
       "      <td>Messenger – Text and Video Chat for Free</td>\n",
       "      <td>Communication</td>\n",
       "      <td>4.0</td>\n",
       "      <td>Everyone</td>\n",
       "      <td>5.000000e+09</td>\n",
       "    </tr>\n",
       "    <tr>\n",
       "      <th>6</th>\n",
       "      <td>Google Photos</td>\n",
       "      <td>Photography</td>\n",
       "      <td>4.5</td>\n",
       "      <td>Everyone</td>\n",
       "      <td>5.000000e+09</td>\n",
       "    </tr>\n",
       "    <tr>\n",
       "      <th>7</th>\n",
       "      <td>Facebook</td>\n",
       "      <td>Social</td>\n",
       "      <td>2.3</td>\n",
       "      <td>Teen</td>\n",
       "      <td>5.000000e+09</td>\n",
       "    </tr>\n",
       "    <tr>\n",
       "      <th>8</th>\n",
       "      <td>Google Drive</td>\n",
       "      <td>Productivity</td>\n",
       "      <td>4.3</td>\n",
       "      <td>Everyone</td>\n",
       "      <td>5.000000e+09</td>\n",
       "    </tr>\n",
       "    <tr>\n",
       "      <th>9</th>\n",
       "      <td>Hangouts</td>\n",
       "      <td>Communication</td>\n",
       "      <td>4.0</td>\n",
       "      <td>Everyone</td>\n",
       "      <td>5.000000e+09</td>\n",
       "    </tr>\n",
       "    <tr>\n",
       "      <th>10</th>\n",
       "      <td>Google Chrome: Fast &amp; Secure</td>\n",
       "      <td>Communication</td>\n",
       "      <td>4.1</td>\n",
       "      <td>Everyone</td>\n",
       "      <td>5.000000e+09</td>\n",
       "    </tr>\n",
       "  </tbody>\n",
       "</table>\n",
       "</div>"
      ],
      "text/plain": [
       "                                    App Name                 Category  Rating  \\\n",
       "0                       Google Play services                    Tools     4.2   \n",
       "1                                     Google                    Tools     4.2   \n",
       "2                                    YouTube  Video Players & Editors     4.4   \n",
       "3                Android Accessibility Suite                    Tools     4.2   \n",
       "4                                      Gmail            Communication     4.2   \n",
       "5   Messenger – Text and Video Chat for Free            Communication     4.0   \n",
       "6                              Google Photos              Photography     4.5   \n",
       "7                                   Facebook                   Social     2.3   \n",
       "8                               Google Drive             Productivity     4.3   \n",
       "9                                   Hangouts            Communication     4.0   \n",
       "10              Google Chrome: Fast & Secure            Communication     4.1   \n",
       "\n",
       "   Content Rating  Minimum Installs  \n",
       "0        Everyone      1.000000e+10  \n",
       "1        Everyone      5.000000e+09  \n",
       "2            Teen      5.000000e+09  \n",
       "3        Everyone      5.000000e+09  \n",
       "4        Everyone      5.000000e+09  \n",
       "5        Everyone      5.000000e+09  \n",
       "6        Everyone      5.000000e+09  \n",
       "7            Teen      5.000000e+09  \n",
       "8        Everyone      5.000000e+09  \n",
       "9        Everyone      5.000000e+09  \n",
       "10       Everyone      5.000000e+09  "
      ]
     },
     "execution_count": 11,
     "metadata": {},
     "output_type": "execute_result"
    }
   ],
   "source": [
    "vista.loc[:10, ['App Name', 'Category','Rating', 'Content Rating', 'Minimum Installs']]\n"
   ]
  },
  {
   "cell_type": "code",
   "execution_count": 10,
   "id": "f9cc62a3",
   "metadata": {},
   "outputs": [],
   "source": [
    "Apps = apps.copy()\n",
    "#Apps.head()"
   ]
  },
  {
   "cell_type": "code",
   "execution_count": 11,
   "id": "b4b810bb",
   "metadata": {},
   "outputs": [
    {
     "data": {
      "text/html": [
       "<div>\n",
       "<style scoped>\n",
       "    .dataframe tbody tr th:only-of-type {\n",
       "        vertical-align: middle;\n",
       "    }\n",
       "\n",
       "    .dataframe tbody tr th {\n",
       "        vertical-align: top;\n",
       "    }\n",
       "\n",
       "    .dataframe thead th {\n",
       "        text-align: right;\n",
       "    }\n",
       "</style>\n",
       "<table border=\"1\" class=\"dataframe\">\n",
       "  <thead>\n",
       "    <tr style=\"text-align: right;\">\n",
       "      <th></th>\n",
       "      <th>Category</th>\n",
       "      <th>Content Rating</th>\n",
       "      <th>Free</th>\n",
       "      <th>In App Purchases</th>\n",
       "      <th>Ad Supported</th>\n",
       "      <th>Minimum Android</th>\n",
       "    </tr>\n",
       "  </thead>\n",
       "  <tbody>\n",
       "    <tr>\n",
       "      <th>0</th>\n",
       "      <td>Adventure</td>\n",
       "      <td>Everyone</td>\n",
       "      <td>True</td>\n",
       "      <td>False</td>\n",
       "      <td>False</td>\n",
       "      <td>7.1 and up</td>\n",
       "    </tr>\n",
       "    <tr>\n",
       "      <th>1</th>\n",
       "      <td>Tools</td>\n",
       "      <td>Everyone</td>\n",
       "      <td>True</td>\n",
       "      <td>False</td>\n",
       "      <td>True</td>\n",
       "      <td>5.0 and up</td>\n",
       "    </tr>\n",
       "    <tr>\n",
       "      <th>2</th>\n",
       "      <td>Productivity</td>\n",
       "      <td>Everyone</td>\n",
       "      <td>True</td>\n",
       "      <td>False</td>\n",
       "      <td>False</td>\n",
       "      <td>4.0.3 and up</td>\n",
       "    </tr>\n",
       "    <tr>\n",
       "      <th>3</th>\n",
       "      <td>Communication</td>\n",
       "      <td>Everyone</td>\n",
       "      <td>True</td>\n",
       "      <td>False</td>\n",
       "      <td>True</td>\n",
       "      <td>4.0.3 and up</td>\n",
       "    </tr>\n",
       "    <tr>\n",
       "      <th>4</th>\n",
       "      <td>Tools</td>\n",
       "      <td>Everyone</td>\n",
       "      <td>True</td>\n",
       "      <td>False</td>\n",
       "      <td>False</td>\n",
       "      <td>4.1 and up</td>\n",
       "    </tr>\n",
       "  </tbody>\n",
       "</table>\n",
       "</div>"
      ],
      "text/plain": [
       "        Category Content Rating  Free  In App Purchases  Ad Supported  \\\n",
       "0      Adventure       Everyone  True             False         False   \n",
       "1          Tools       Everyone  True             False          True   \n",
       "2   Productivity       Everyone  True             False         False   \n",
       "3  Communication       Everyone  True             False          True   \n",
       "4          Tools       Everyone  True             False         False   \n",
       "\n",
       "  Minimum Android  \n",
       "0      7.1 and up  \n",
       "1      5.0 and up  \n",
       "2    4.0.3 and up  \n",
       "3    4.0.3 and up  \n",
       "4      4.1 and up  "
      ]
     },
     "execution_count": 11,
     "metadata": {},
     "output_type": "execute_result"
    }
   ],
   "source": [
    "#particion\n",
    "#X = Apps.filter(['Category','Content Rating','Free','In App Purchases', 'Ad Supported', 'Rating Count'], axis=1)\n",
    "X = Apps.filter(['Category','Content Rating','Free','In App Purchases', 'Ad Supported', 'Minimum Android'], axis=1)\n",
    "\n",
    "\n",
    "X.head()"
   ]
  },
  {
   "cell_type": "code",
   "execution_count": 12,
   "id": "c353063a",
   "metadata": {},
   "outputs": [
    {
     "data": {
      "text/plain": [
       "Category            object\n",
       "Content Rating      object\n",
       "Free                  bool\n",
       "In App Purchases      bool\n",
       "Ad Supported          bool\n",
       "Minimum Android     object\n",
       "dtype: object"
      ]
     },
     "execution_count": 12,
     "metadata": {},
     "output_type": "execute_result"
    }
   ],
   "source": [
    "X.dtypes"
   ]
  },
  {
   "cell_type": "code",
   "execution_count": 13,
   "id": "aefa057e",
   "metadata": {},
   "outputs": [
    {
     "data": {
      "text/html": [
       "<div>\n",
       "<style scoped>\n",
       "    .dataframe tbody tr th:only-of-type {\n",
       "        vertical-align: middle;\n",
       "    }\n",
       "\n",
       "    .dataframe tbody tr th {\n",
       "        vertical-align: top;\n",
       "    }\n",
       "\n",
       "    .dataframe thead th {\n",
       "        text-align: right;\n",
       "    }\n",
       "</style>\n",
       "<table border=\"1\" class=\"dataframe\">\n",
       "  <thead>\n",
       "    <tr style=\"text-align: right;\">\n",
       "      <th></th>\n",
       "      <th>Category_Action</th>\n",
       "      <th>Category_Adventure</th>\n",
       "      <th>Category_Arcade</th>\n",
       "      <th>Category_Art &amp; Design</th>\n",
       "      <th>Category_Auto &amp; Vehicles</th>\n",
       "      <th>Category_Beauty</th>\n",
       "      <th>Category_Board</th>\n",
       "      <th>Category_Books &amp; Reference</th>\n",
       "      <th>Category_Business</th>\n",
       "      <th>Category_Card</th>\n",
       "      <th>...</th>\n",
       "      <th>Minimum Android_6.0</th>\n",
       "      <th>Minimum Android_6.0 - 7.1.1</th>\n",
       "      <th>Minimum Android_6.0 - 8.0</th>\n",
       "      <th>Minimum Android_6.0 and up</th>\n",
       "      <th>Minimum Android_7.0</th>\n",
       "      <th>Minimum Android_7.0 and up</th>\n",
       "      <th>Minimum Android_7.1 and up</th>\n",
       "      <th>Minimum Android_8.0</th>\n",
       "      <th>Minimum Android_8.0 and up</th>\n",
       "      <th>Minimum Android_Varies with device</th>\n",
       "    </tr>\n",
       "  </thead>\n",
       "  <tbody>\n",
       "    <tr>\n",
       "      <th>0</th>\n",
       "      <td>0</td>\n",
       "      <td>1</td>\n",
       "      <td>0</td>\n",
       "      <td>0</td>\n",
       "      <td>0</td>\n",
       "      <td>0</td>\n",
       "      <td>0</td>\n",
       "      <td>0</td>\n",
       "      <td>0</td>\n",
       "      <td>0</td>\n",
       "      <td>...</td>\n",
       "      <td>0</td>\n",
       "      <td>0</td>\n",
       "      <td>0</td>\n",
       "      <td>0</td>\n",
       "      <td>0</td>\n",
       "      <td>0</td>\n",
       "      <td>1</td>\n",
       "      <td>0</td>\n",
       "      <td>0</td>\n",
       "      <td>0</td>\n",
       "    </tr>\n",
       "    <tr>\n",
       "      <th>1</th>\n",
       "      <td>0</td>\n",
       "      <td>0</td>\n",
       "      <td>0</td>\n",
       "      <td>0</td>\n",
       "      <td>0</td>\n",
       "      <td>0</td>\n",
       "      <td>0</td>\n",
       "      <td>0</td>\n",
       "      <td>0</td>\n",
       "      <td>0</td>\n",
       "      <td>...</td>\n",
       "      <td>0</td>\n",
       "      <td>0</td>\n",
       "      <td>0</td>\n",
       "      <td>0</td>\n",
       "      <td>0</td>\n",
       "      <td>0</td>\n",
       "      <td>0</td>\n",
       "      <td>0</td>\n",
       "      <td>0</td>\n",
       "      <td>0</td>\n",
       "    </tr>\n",
       "    <tr>\n",
       "      <th>2</th>\n",
       "      <td>0</td>\n",
       "      <td>0</td>\n",
       "      <td>0</td>\n",
       "      <td>0</td>\n",
       "      <td>0</td>\n",
       "      <td>0</td>\n",
       "      <td>0</td>\n",
       "      <td>0</td>\n",
       "      <td>0</td>\n",
       "      <td>0</td>\n",
       "      <td>...</td>\n",
       "      <td>0</td>\n",
       "      <td>0</td>\n",
       "      <td>0</td>\n",
       "      <td>0</td>\n",
       "      <td>0</td>\n",
       "      <td>0</td>\n",
       "      <td>0</td>\n",
       "      <td>0</td>\n",
       "      <td>0</td>\n",
       "      <td>0</td>\n",
       "    </tr>\n",
       "    <tr>\n",
       "      <th>3</th>\n",
       "      <td>0</td>\n",
       "      <td>0</td>\n",
       "      <td>0</td>\n",
       "      <td>0</td>\n",
       "      <td>0</td>\n",
       "      <td>0</td>\n",
       "      <td>0</td>\n",
       "      <td>0</td>\n",
       "      <td>0</td>\n",
       "      <td>0</td>\n",
       "      <td>...</td>\n",
       "      <td>0</td>\n",
       "      <td>0</td>\n",
       "      <td>0</td>\n",
       "      <td>0</td>\n",
       "      <td>0</td>\n",
       "      <td>0</td>\n",
       "      <td>0</td>\n",
       "      <td>0</td>\n",
       "      <td>0</td>\n",
       "      <td>0</td>\n",
       "    </tr>\n",
       "    <tr>\n",
       "      <th>4</th>\n",
       "      <td>0</td>\n",
       "      <td>0</td>\n",
       "      <td>0</td>\n",
       "      <td>0</td>\n",
       "      <td>0</td>\n",
       "      <td>0</td>\n",
       "      <td>0</td>\n",
       "      <td>0</td>\n",
       "      <td>0</td>\n",
       "      <td>0</td>\n",
       "      <td>...</td>\n",
       "      <td>0</td>\n",
       "      <td>0</td>\n",
       "      <td>0</td>\n",
       "      <td>0</td>\n",
       "      <td>0</td>\n",
       "      <td>0</td>\n",
       "      <td>0</td>\n",
       "      <td>0</td>\n",
       "      <td>0</td>\n",
       "      <td>0</td>\n",
       "    </tr>\n",
       "  </tbody>\n",
       "</table>\n",
       "<p>5 rows × 214 columns</p>\n",
       "</div>"
      ],
      "text/plain": [
       "   Category_Action  Category_Adventure  Category_Arcade  \\\n",
       "0                0                   1                0   \n",
       "1                0                   0                0   \n",
       "2                0                   0                0   \n",
       "3                0                   0                0   \n",
       "4                0                   0                0   \n",
       "\n",
       "   Category_Art & Design  Category_Auto & Vehicles  Category_Beauty  \\\n",
       "0                      0                         0                0   \n",
       "1                      0                         0                0   \n",
       "2                      0                         0                0   \n",
       "3                      0                         0                0   \n",
       "4                      0                         0                0   \n",
       "\n",
       "   Category_Board  Category_Books & Reference  Category_Business  \\\n",
       "0               0                           0                  0   \n",
       "1               0                           0                  0   \n",
       "2               0                           0                  0   \n",
       "3               0                           0                  0   \n",
       "4               0                           0                  0   \n",
       "\n",
       "   Category_Card  ...  Minimum Android_6.0  Minimum Android_6.0 - 7.1.1  \\\n",
       "0              0  ...                    0                            0   \n",
       "1              0  ...                    0                            0   \n",
       "2              0  ...                    0                            0   \n",
       "3              0  ...                    0                            0   \n",
       "4              0  ...                    0                            0   \n",
       "\n",
       "   Minimum Android_6.0 - 8.0  Minimum Android_6.0 and up  Minimum Android_7.0  \\\n",
       "0                          0                           0                    0   \n",
       "1                          0                           0                    0   \n",
       "2                          0                           0                    0   \n",
       "3                          0                           0                    0   \n",
       "4                          0                           0                    0   \n",
       "\n",
       "   Minimum Android_7.0 and up  Minimum Android_7.1 and up  \\\n",
       "0                           0                           1   \n",
       "1                           0                           0   \n",
       "2                           0                           0   \n",
       "3                           0                           0   \n",
       "4                           0                           0   \n",
       "\n",
       "   Minimum Android_8.0  Minimum Android_8.0 and up  \\\n",
       "0                    0                           0   \n",
       "1                    0                           0   \n",
       "2                    0                           0   \n",
       "3                    0                           0   \n",
       "4                    0                           0   \n",
       "\n",
       "   Minimum Android_Varies with device  \n",
       "0                                   0  \n",
       "1                                   0  \n",
       "2                                   0  \n",
       "3                                   0  \n",
       "4                                   0  \n",
       "\n",
       "[5 rows x 214 columns]"
      ]
     },
     "execution_count": 13,
     "metadata": {},
     "output_type": "execute_result"
    }
   ],
   "source": [
    "X_encoded = pd.get_dummies(X, columns=['Category','Content Rating', 'Free','In App Purchases', 'Ad Supported', 'Minimum Android'])\n",
    "\n",
    "#X_encoded.drop\n",
    "\n",
    "X_encoded.head()"
   ]
  },
  {
   "cell_type": "markdown",
   "id": "70b4664e",
   "metadata": {},
   "source": [
    "###### Se busca clasificar las apps en exitosas o no exitosas. En el dataset, consideraremos exitosas a las apps con descargas mayores o iguales a 1000"
   ]
  },
  {
   "cell_type": "code",
   "execution_count": 17,
   "id": "d7f8386a",
   "metadata": {},
   "outputs": [],
   "source": [
    "y = Apps.filter(['Minimum Installs'], axis=1)\n",
    "y = ( y >= 1000)*1 \n",
    "\n",
    "y = y.rename(columns={'Minimum Installs': 'objetivo'})\n"
   ]
  },
  {
   "cell_type": "code",
   "execution_count": 19,
   "id": "1372f3f4",
   "metadata": {},
   "outputs": [
    {
     "data": {
      "image/png": "[encoded data removed]",
      "text/plain": [
       "<Figure size 432x288 with 1 Axes>"
      ]
     },
     "metadata": {
      "needs_background": "light"
     },
     "output_type": "display_data"
    }
   ],
   "source": [
    "plt.bar(['False', 'True'], y['objetivo'].value_counts(normalize=True),\n",
    "        color=sns.color_palette(\"viridis\"))\n",
    "plt.title('App exitosa')\n",
    "plt.ylabel('Porcentaje')\n",
    "plt.xlabel('Descargas >= 1.000 ')\n",
    "plt.show();\n"
   ]
  },
  {
   "cell_type": "code",
   "execution_count": 20,
   "id": "b0acc829",
   "metadata": {},
   "outputs": [
    {
     "data": {
      "text/plain": [
       "objetivo\n",
       "0           1231149\n",
       "1           1052386\n",
       "dtype: int64"
      ]
     },
     "execution_count": 20,
     "metadata": {},
     "output_type": "execute_result"
    }
   ],
   "source": [
    "y.value_counts()"
   ]
  },
  {
   "cell_type": "markdown",
   "id": "c5c60260",
   "metadata": {},
   "source": [
    "# Modelos de clasificación\n"
   ]
  },
  {
   "cell_type": "markdown",
   "id": "dae5ab13",
   "metadata": {},
   "source": [
    " "
   ]
  },
  {
   "cell_type": "code",
   "execution_count": 21,
   "id": "41f940a1",
   "metadata": {},
   "outputs": [],
   "source": [
    "X_train, X_test, y_train, y_test = train_test_split(X_encoded, y, random_state=42, test_size=.2)\n"
   ]
  },
  {
   "cell_type": "code",
   "execution_count": 5,
   "id": "f1afa712",
   "metadata": {},
   "outputs": [],
   "source": [
    "#arbol de decision\n",
    "\n",
    "arbol_pre = DecisionTreeClassifier()\n",
    "arbol_pre = arbol_pre.fit(X_train, y_train)\n"
   ]
  },
  {
   "cell_type": "code",
   "execution_count": 15,
   "id": "7c176054",
   "metadata": {},
   "outputs": [
    {
     "name": "stdout",
     "output_type": "stream",
     "text": [
      "Stored 'arbol_pre' (DecisionTreeClassifier)\n"
     ]
    }
   ],
   "source": []
  },
  {
   "cell_type": "code",
   "execution_count": 4,
   "id": "f1a24b05",
   "metadata": {},
   "outputs": [
    {
     "name": "stderr",
     "output_type": "stream",
     "text": [
      "[Parallel(n_jobs=-1)]: Using backend ThreadingBackend with 8 concurrent workers.\n"
     ]
    },
    {
     "name": "stdout",
     "output_type": "stream",
     "text": [
      "building tree 1 of 100building tree 2 of 100building tree 3 of 100\n",
      "building tree 4 of 100\n",
      "\n",
      "\n",
      "building tree 5 of 100building tree 6 of 100\n",
      "building tree 7 of 100\n",
      "building tree 8 of 100\n",
      "\n",
      "building tree 9 of 100\n",
      "building tree 10 of 100\n",
      "building tree 11 of 100\n",
      "building tree 12 of 100\n",
      "building tree 13 of 100\n",
      "building tree 14 of 100\n",
      "building tree 15 of 100\n",
      "building tree 16 of 100\n",
      "building tree 17 of 100\n",
      "building tree 18 of 100\n",
      "building tree 19 of 100\n",
      "building tree 20 of 100building tree 21 of 100\n",
      "\n",
      "building tree 22 of 100\n",
      "building tree 23 of 100\n"
     ]
    },
    {
     "name": "stderr",
     "output_type": "stream",
     "text": [
      "[Parallel(n_jobs=-1)]: Done  16 tasks      | elapsed:   58.4s\n"
     ]
    },
    {
     "name": "stdout",
     "output_type": "stream",
     "text": [
      "building tree 24 of 100\n",
      "building tree 25 of 100\n",
      "building tree 26 of 100\n",
      "building tree 27 of 100\n",
      "building tree 28 of 100\n",
      "building tree 29 of 100\n",
      "building tree 30 of 100\n",
      "building tree 31 of 100\n",
      "building tree 32 of 100\n",
      "building tree 33 of 100\n",
      "building tree 34 of 100\n",
      "building tree 35 of 100\n",
      "building tree 36 of 100\n",
      "building tree 37 of 100\n",
      "building tree 38 of 100\n",
      "building tree 39 of 100\n",
      "building tree 40 of 100\n",
      "building tree 41 of 100\n",
      "building tree 42 of 100\n",
      "building tree 43 of 100\n",
      "building tree 44 of 100\n",
      "building tree 45 of 100\n",
      "building tree 46 of 100\n",
      "building tree 47 of 100\n",
      "building tree 48 of 100\n",
      "building tree 49 of 100\n",
      "building tree 50 of 100\n",
      "building tree 51 of 100\n",
      "building tree 52 of 100\n",
      "building tree 53 of 100\n",
      "building tree 54 of 100\n",
      "building tree 55 of 100\n",
      "building tree 56 of 100\n",
      "building tree 57 of 100\n",
      "building tree 58 of 100\n",
      "building tree 59 of 100\n",
      "building tree 60 of 100\n",
      "building tree 61 of 100\n",
      "building tree 62 of 100\n",
      "building tree 63 of 100\n",
      "building tree 64 of 100\n",
      "building tree 65 of 100\n",
      "building tree 66 of 100\n",
      "building tree 67 of 100\n",
      "building tree 68 of 100\n",
      "building tree 69 of 100\n",
      "building tree 70 of 100\n",
      "building tree 71 of 100\n",
      "building tree 72 of 100\n",
      "building tree 73 of 100\n",
      "building tree 74 of 100\n",
      "building tree 75 of 100\n",
      "building tree 76 of 100\n",
      "building tree 77 of 100\n",
      "building tree 78 of 100\n",
      "building tree 79 of 100\n",
      "building tree 80 of 100\n",
      "building tree 81 of 100\n",
      "building tree 82 of 100\n",
      "building tree 83 of 100\n",
      "building tree 84 of 100\n",
      "building tree 85 of 100\n",
      "building tree 86 of 100\n",
      "building tree 87 of 100\n",
      "building tree 88 of 100\n",
      "building tree 89 of 100\n",
      "building tree 90 of 100\n",
      "building tree 91 of 100\n",
      "building tree 92 of 100\n",
      "building tree 93 of 100\n",
      "building tree 94 of 100\n",
      "building tree 95 of 100\n",
      "building tree 96 of 100\n",
      "building tree 97 of 100\n",
      "building tree 98 of 100\n",
      "building tree 99 of 100\n",
      "building tree 100 of 100\n"
     ]
    },
    {
     "name": "stderr",
     "output_type": "stream",
     "text": [
      "[Parallel(n_jobs=-1)]: Done 100 out of 100 | elapsed:  6.3min finished\n"
     ]
    },
    {
     "data": {
      "text/plain": [
       "RandomForestClassifier(n_jobs=-1, random_state=42, verbose=3)"
      ]
     },
     "execution_count": 4,
     "metadata": {},
     "output_type": "execute_result"
    }
   ],
   "source": [
    "#ramdom forest\n",
    "#cuantos menos estimadores, mas rapido termina...\n",
    "#rf = RandomForestClassifier(n_estimators=40, verbose=3, max_depth=5, max_samples=0.2, random_state=42, n_jobs=-1)\n",
    "\n",
    "rf = RandomForestClassifier(random_state=42, verbose=3, n_jobs=-1)\n",
    "\n",
    "rf.fit(X_train, y_train.values.ravel())\n"
   ]
  },
  {
   "cell_type": "code",
   "execution_count": 16,
   "id": "c15e2543",
   "metadata": {},
   "outputs": [
    {
     "name": "stdout",
     "output_type": "stream",
     "text": [
      "Stored 'gnb' (GaussianNB)\n"
     ]
    }
   ],
   "source": [
    "#naive bayes\n",
    "gnb = GaussianNB()\n",
    "gnb.fit(X_train,y_train.values.ravel())\n"
   ]
  },
  {
   "cell_type": "code",
   "execution_count": 10,
   "id": "2cea54a6",
   "metadata": {},
   "outputs": [
    {
     "name": "stdout",
     "output_type": "stream",
     "text": [
      "      Iter       Train Loss   Remaining Time \n",
      "         1           1.3654           26.22m\n",
      "         2           1.3533           25.73m\n",
      "         3           1.3435           25.81m\n",
      "         4           1.3354           26.20m\n",
      "         5           1.3287           25.79m\n",
      "         6           1.3232           25.35m\n",
      "         7           1.3186           25.12m\n",
      "         8           1.3147           24.86m\n",
      "         9           1.3115           24.81m\n",
      "        10           1.3088           24.75m\n",
      "        11           1.3063           24.58m\n",
      "        12           1.3043           24.29m\n",
      "        13           1.3026           24.01m\n",
      "        14           1.3006           23.74m\n",
      "        15           1.2993           23.50m\n",
      "        16           1.2979           23.33m\n",
      "        17           1.2967           23.22m\n",
      "        18           1.2956           23.08m\n",
      "        19           1.2946           22.81m\n",
      "        20           1.2935           22.51m\n",
      "        21           1.2926           22.30m\n",
      "        22           1.2918           22.11m\n",
      "        23           1.2911           21.94m\n",
      "        24           1.2904           21.64m\n",
      "        25           1.2896           21.35m\n",
      "        26           1.2890           21.18m\n",
      "        27           1.2884           20.92m\n",
      "        28           1.2878           20.62m\n",
      "        29           1.2873           20.39m\n",
      "        30           1.2866           20.12m\n",
      "        31           1.2861           19.83m\n",
      "        32           1.2857           19.58m\n",
      "        33           1.2852           19.33m\n",
      "        34           1.2847           19.10m\n",
      "        35           1.2843           18.82m\n",
      "        36           1.2838           18.48m\n",
      "        37           1.2834           18.17m\n",
      "        38           1.2829           17.92m\n",
      "        39           1.2826           17.67m\n",
      "        40           1.2822           17.42m\n",
      "        41           1.2818           17.16m\n",
      "        42           1.2815           16.89m\n",
      "        43           1.2812           16.58m\n",
      "        44           1.2809           16.32m\n",
      "        45           1.2806           16.03m\n",
      "        46           1.2803           15.75m\n",
      "        47           1.2800           15.48m\n",
      "        48           1.2797           15.22m\n",
      "        49           1.2794           14.94m\n",
      "        50           1.2791           14.66m\n",
      "        51           1.2789           14.38m\n",
      "        52           1.2786           14.06m\n",
      "        53           1.2784           13.74m\n",
      "        54           1.2781           13.44m\n",
      "        55           1.2778           13.17m\n",
      "        56           1.2775           12.89m\n",
      "        57           1.2772           12.60m\n",
      "        58           1.2770           12.30m\n",
      "        59           1.2768           12.03m\n",
      "        60           1.2765           11.73m\n",
      "        61           1.2763           11.43m\n",
      "        62           1.2758           11.12m\n",
      "        63           1.2756           10.82m\n",
      "        64           1.2754           10.52m\n",
      "        65           1.2752           10.21m\n",
      "        66           1.2749            9.91m\n",
      "        67           1.2748            9.62m\n",
      "        68           1.2746            9.32m\n",
      "        69           1.2744            9.01m\n",
      "        70           1.2742            8.71m\n",
      "        71           1.2739            8.42m\n",
      "        72           1.2735            8.12m\n",
      "        73           1.2733            7.83m\n",
      "        74           1.2731            7.53m\n",
      "        75           1.2728            7.24m\n",
      "        76           1.2726            6.96m\n",
      "        77           1.2722            6.68m\n",
      "        78           1.2721            6.38m\n",
      "        79           1.2719            6.10m\n",
      "        80           1.2716            5.82m\n",
      "        81           1.2715            5.53m\n",
      "        82           1.2713            5.24m\n",
      "        83           1.2712            4.95m\n",
      "        84           1.2710            4.66m\n",
      "        85           1.2709            4.37m\n",
      "        86           1.2706            4.08m\n",
      "        87           1.2705            3.79m\n",
      "        88           1.2704            3.50m\n",
      "        89           1.2702            3.20m\n",
      "        90           1.2700            2.91m\n",
      "        91           1.2699            2.62m\n",
      "        92           1.2697            2.32m\n",
      "        93           1.2696            2.03m\n",
      "        94           1.2695            1.74m\n",
      "        95           1.2694            1.45m\n",
      "        96           1.2693            1.16m\n",
      "        97           1.2692           52.36s\n",
      "        98           1.2691           34.92s\n",
      "        99           1.2689           17.45s\n",
      "       100           1.2688            0.00s\n"
     ]
    }
   ],
   "source": [
    "\n",
    "gbc = GradientBoostingClassifier(verbose=3, random_state=42)\n",
    "gbc.fit(X_train, y_train.values.ravel());\n"
   ]
  },
  {
   "cell_type": "markdown",
   "id": "4c26f52e",
   "metadata": {},
   "source": [
    "##### el entrenamiento del modelo Voting Classifier fue realizado mas abajo, ejecutarlo primero antes de continuar con las metricas..."
   ]
  },
  {
   "cell_type": "code",
   "execution_count": 17,
   "id": "d48f71ad",
   "metadata": {},
   "outputs": [],
   "source": []
  },
  {
   "cell_type": "markdown",
   "id": "e08bcc83",
   "metadata": {},
   "source": [
    "# Metricas"
   ]
  },
  {
   "cell_type": "markdown",
   "id": "41f7f94c",
   "metadata": {},
   "source": [
    "### Decision Tree"
   ]
  },
  {
   "cell_type": "code",
   "execution_count": 20,
   "id": "9de1babf",
   "metadata": {},
   "outputs": [
    {
     "name": "stdout",
     "output_type": "stream",
     "text": [
      "DecisionTreeClassifier\n",
      "Accuracy :  65.9238855546335\n",
      "Precision:  64.17564165779982\n",
      "Recall:  58.80780590817641\n"
     ]
    }
   ],
   "source": [
    "y_prediccion = arbol_pre.predict(X_test)\n",
    "print('DecisionTreeClassifier')\n",
    "print(\"Accuracy : \" ,accuracy_score(y_true = y_test, y_pred = y_prediccion)*100)\n",
    "print(\"Precision: \" ,precision_score(y_true = y_test, y_pred = y_prediccion)*100)\n",
    "print(\"Recall: \" ,recall_score(y_true = y_test, y_pred = y_prediccion)*100)\n",
    "\n"
   ]
  },
  {
   "cell_type": "markdown",
   "id": "f72734e9",
   "metadata": {},
   "source": [
    "### Random Forest"
   ]
  },
  {
   "cell_type": "code",
   "execution_count": 21,
   "id": "b736b5b2",
   "metadata": {},
   "outputs": [
    {
     "name": "stderr",
     "output_type": "stream",
     "text": [
      "[Parallel(n_jobs=8)]: Using backend ThreadingBackend with 8 concurrent workers.\n",
      "[Parallel(n_jobs=8)]: Done  16 tasks      | elapsed:    0.7s\n",
      "[Parallel(n_jobs=8)]: Done 100 out of 100 | elapsed:    4.1s finished\n"
     ]
    },
    {
     "name": "stdout",
     "output_type": "stream",
     "text": [
      "Random Forest\n",
      "Accuracy :  65.94162121447667\n",
      "Precision:  64.15002586652872\n",
      "Recall:  58.97807858226596\n"
     ]
    }
   ],
   "source": [
    "y_prediccion = rf.predict(X_test)\n",
    "print('Random Forest')\n",
    "print(\"Accuracy : \" ,accuracy_score(y_true = y_test, y_pred = y_prediccion)*100)\n",
    "print(\"Precision: \" ,precision_score(y_true = y_test, y_pred = y_prediccion)*100)\n",
    "print(\"Recall: \" ,recall_score(y_true = y_test, y_pred = y_prediccion)*100)\n",
    "\n"
   ]
  },
  {
   "cell_type": "markdown",
   "id": "fa5274da",
   "metadata": {},
   "source": [
    "### Gradient Boosting"
   ]
  },
  {
   "cell_type": "code",
   "execution_count": 23,
   "id": "62a8820a",
   "metadata": {},
   "outputs": [
    {
     "name": "stdout",
     "output_type": "stream",
     "text": [
      "Gradient Boosting Classifier\n",
      "Accuracy :  64.47394062276251\n",
      "Precision:  61.66414758727273\n",
      "Recall:  60.347869926896905\n"
     ]
    }
   ],
   "source": [
    "y_prediccion = gbc.predict(X_test)\n",
    "print('Gradient Boosting Classifier')\n",
    "print(\"Accuracy : \" ,accuracy_score(y_true = y_test, y_pred = y_prediccion)*100)\n",
    "print(\"Precision: \" ,precision_score(y_true = y_test, y_pred = y_prediccion)*100)\n",
    "print(\"Recall: \" ,recall_score(y_true = y_test, y_pred = y_prediccion)*100)\n"
   ]
  },
  {
   "cell_type": "code",
   "execution_count": null,
   "id": "a57f8451",
   "metadata": {},
   "outputs": [],
   "source": []
  },
  {
   "cell_type": "markdown",
   "id": "ea1826d5",
   "metadata": {},
   "source": [
    "### Gaussian Naive Bayes"
   ]
  },
  {
   "cell_type": "code",
   "execution_count": 24,
   "id": "baad32da",
   "metadata": {},
   "outputs": [
    {
     "name": "stdout",
     "output_type": "stream",
     "text": [
      "Gaussian Naive Bayes\n",
      "Accuracy :  56.589016590505516\n",
      "Precision:  69.13867960669135\n",
      "Recall:  10.300545538427878\n"
     ]
    }
   ],
   "source": [
    "\n",
    "y_prediccion = gnb.predict(X_test)\n",
    "print('Gaussian Naive Bayes')\n",
    "print(\"Accuracy : \" ,accuracy_score(y_true = y_test, y_pred = y_prediccion)*100)\n",
    "print(\"Precision: \" ,precision_score(y_true = y_test, y_pred = y_prediccion)*100)\n",
    "print(\"Recall: \" ,recall_score(y_true = y_test, y_pred = y_prediccion)*100)\n",
    "\n"
   ]
  },
  {
   "cell_type": "markdown",
   "id": "c6b592d8",
   "metadata": {},
   "source": [
    "\n",
    "______________________________________________________________________\n",
    "\n",
    "\n",
    "\n",
    "#                                 Matriz de confusión"
   ]
  },
  {
   "cell_type": "markdown",
   "id": "1ce700f4",
   "metadata": {},
   "source": [
    "### Decision Tree "
   ]
  },
  {
   "cell_type": "code",
   "execution_count": 10,
   "id": "625b9789",
   "metadata": {},
   "outputs": [
    {
     "name": "stderr",
     "output_type": "stream",
     "text": [
      "C:\\Users\\alder\\anaconda3\\lib\\site-packages\\sklearn\\utils\\deprecation.py:87: FutureWarning: Function plot_confusion_matrix is deprecated; Function `plot_confusion_matrix` is deprecated in 1.0 and will be removed in 1.2. Use one of the class methods: ConfusionMatrixDisplay.from_predictions or ConfusionMatrixDisplay.from_estimator.\n",
      "  warnings.warn(msg, category=FutureWarning)\n"
     ]
    },
    {
     "data": {
      "text/plain": [
       "Text(0.5, 1.0, 'Decision Tree')"
      ]
     },
     "execution_count": 10,
     "metadata": {},
     "output_type": "execute_result"
    },
    {
     "data": {
      "image/png": "[encoded data removed]",
      "text/plain": [
       "<Figure size 432x288 with 2 Axes>"
      ]
     },
     "metadata": {
      "needs_background": "light"
     },
     "output_type": "display_data"
    }
   ],
   "source": [
    "plot_confusion_matrix(arbol_pre, X_test, y_test, display_labels= ['App no exitosa', 'App exitosa'])\n",
    "plt.title('Decision Tree')\n"
   ]
  },
  {
   "cell_type": "markdown",
   "id": "2283e3b7",
   "metadata": {},
   "source": [
    "### Random Forest"
   ]
  },
  {
   "cell_type": "code",
   "execution_count": 29,
   "id": "b38d53a3",
   "metadata": {},
   "outputs": [
    {
     "name": "stderr",
     "output_type": "stream",
     "text": [
      "C:\\Users\\alder\\anaconda3\\lib\\site-packages\\sklearn\\utils\\deprecation.py:87: FutureWarning: Function plot_confusion_matrix is deprecated; Function `plot_confusion_matrix` is deprecated in 1.0 and will be removed in 1.2. Use one of the class methods: ConfusionMatrixDisplay.from_predictions or ConfusionMatrixDisplay.from_estimator.\n",
      "  warnings.warn(msg, category=FutureWarning)\n",
      "[Parallel(n_jobs=8)]: Using backend ThreadingBackend with 8 concurrent workers.\n",
      "[Parallel(n_jobs=8)]: Done  16 tasks      | elapsed:    0.7s\n",
      "[Parallel(n_jobs=8)]: Done 100 out of 100 | elapsed:    3.8s finished\n"
     ]
    },
    {
     "data": {
      "text/plain": [
       "Text(0.5, 1.0, 'Random Forest')"
      ]
     },
     "execution_count": 29,
     "metadata": {},
     "output_type": "execute_result"
    },
    {
     "data": {
      "image/png": "[encoded data removed]",
      "text/plain": [
       "<Figure size 432x288 with 2 Axes>"
      ]
     },
     "metadata": {
      "needs_background": "light"
     },
     "output_type": "display_data"
    }
   ],
   "source": [
    "plot_confusion_matrix(rf, X_test, y_test.values.ravel(), display_labels= ['App no exitosa', 'App exitosa'])\n",
    "plt.title('Random Forest')\n"
   ]
  },
  {
   "cell_type": "code",
   "execution_count": 7,
   "id": "8db483dd",
   "metadata": {},
   "outputs": [
    {
     "name": "stderr",
     "output_type": "stream",
     "text": [
      "C:\\Users\\alder\\anaconda3\\lib\\site-packages\\sklearn\\utils\\deprecation.py:87: FutureWarning: Function plot_confusion_matrix is deprecated; Function `plot_confusion_matrix` is deprecated in 1.0 and will be removed in 1.2. Use one of the class methods: ConfusionMatrixDisplay.from_predictions or ConfusionMatrixDisplay.from_estimator.\n",
      "  warnings.warn(msg, category=FutureWarning)\n"
     ]
    },
    {
     "data": {
      "text/plain": [
       "Text(0.5, 1.0, 'Gradient Boosting')"
      ]
     },
     "execution_count": 7,
     "metadata": {},
     "output_type": "execute_result"
    },
    {
     "data": {
      "image/png": "[encoded data removed]",
      "text/plain": [
       "<Figure size 432x288 with 2 Axes>"
      ]
     },
     "metadata": {
      "needs_background": "light"
     },
     "output_type": "display_data"
    }
   ],
   "source": [
    "plot_confusion_matrix(gbc, X_test, y_test, display_labels= ['App no exitosa', 'App exitosa'])\n",
    "plt.title('Gradient Boosting')\n"
   ]
  },
  {
   "cell_type": "markdown",
   "id": "4e147abe",
   "metadata": {},
   "source": [
    "### Gausian Naive Bayes"
   ]
  },
  {
   "cell_type": "code",
   "execution_count": 8,
   "id": "380d3e74",
   "metadata": {},
   "outputs": [
    {
     "name": "stderr",
     "output_type": "stream",
     "text": [
      "C:\\Users\\alder\\anaconda3\\lib\\site-packages\\sklearn\\utils\\deprecation.py:87: FutureWarning: Function plot_confusion_matrix is deprecated; Function `plot_confusion_matrix` is deprecated in 1.0 and will be removed in 1.2. Use one of the class methods: ConfusionMatrixDisplay.from_predictions or ConfusionMatrixDisplay.from_estimator.\n",
      "  warnings.warn(msg, category=FutureWarning)\n"
     ]
    },
    {
     "data": {
      "text/plain": [
       "Text(0.5, 1.0, 'Naive Bayes')"
      ]
     },
     "execution_count": 8,
     "metadata": {},
     "output_type": "execute_result"
    },
    {
     "data": {
      "image/png": "[encoded data removed]",
      "text/plain": [
       "<Figure size 432x288 with 2 Axes>"
      ]
     },
     "metadata": {
      "needs_background": "light"
     },
     "output_type": "display_data"
    }
   ],
   "source": [
    "plot_confusion_matrix(gnb, X_test, y_test, display_labels= ['App no exitosa', 'App exitosa'])\n",
    "plt.title('Naive Bayes')\n"
   ]
  },
  {
   "cell_type": "markdown",
   "id": "56ba5d32",
   "metadata": {},
   "source": [
    "El modelo no clasifica correctamente segun la matriz de confusion."
   ]
  },
  {
   "cell_type": "markdown",
   "id": "a5e84170",
   "metadata": {},
   "source": [
    " "
   ]
  },
  {
   "cell_type": "markdown",
   "id": "4d86e776",
   "metadata": {},
   "source": [
    "# Curva ROC "
   ]
  },
  {
   "cell_type": "code",
   "execution_count": 34,
   "id": "7a93b116",
   "metadata": {},
   "outputs": [
    {
     "name": "stderr",
     "output_type": "stream",
     "text": [
      "C:\\Users\\alder\\anaconda3\\lib\\site-packages\\sklearn\\utils\\deprecation.py:87: FutureWarning: Function plot_roc_curve is deprecated; Function `plot_roc_curve` is deprecated in 1.0 and will be removed in 1.2. Use one of the class methods: RocCurveDisplay.from_predictions or RocCurveDisplay.from_estimator.\n",
      "  warnings.warn(msg, category=FutureWarning)\n",
      "C:\\Users\\alder\\anaconda3\\lib\\site-packages\\sklearn\\utils\\deprecation.py:87: FutureWarning: Function plot_roc_curve is deprecated; Function `plot_roc_curve` is deprecated in 1.0 and will be removed in 1.2. Use one of the class methods: RocCurveDisplay.from_predictions or RocCurveDisplay.from_estimator.\n",
      "  warnings.warn(msg, category=FutureWarning)\n",
      "[Parallel(n_jobs=8)]: Using backend ThreadingBackend with 8 concurrent workers.\n",
      "[Parallel(n_jobs=8)]: Done  16 tasks      | elapsed:    0.6s\n",
      "[Parallel(n_jobs=8)]: Done 100 out of 100 | elapsed:    3.8s finished\n",
      "C:\\Users\\alder\\anaconda3\\lib\\site-packages\\sklearn\\utils\\deprecation.py:87: FutureWarning: Function plot_roc_curve is deprecated; Function `plot_roc_curve` is deprecated in 1.0 and will be removed in 1.2. Use one of the class methods: RocCurveDisplay.from_predictions or RocCurveDisplay.from_estimator.\n",
      "  warnings.warn(msg, category=FutureWarning)\n",
      "C:\\Users\\alder\\anaconda3\\lib\\site-packages\\sklearn\\utils\\deprecation.py:87: FutureWarning: Function plot_roc_curve is deprecated; Function `plot_roc_curve` is deprecated in 1.0 and will be removed in 1.2. Use one of the class methods: RocCurveDisplay.from_predictions or RocCurveDisplay.from_estimator.\n",
      "  warnings.warn(msg, category=FutureWarning)\n"
     ]
    },
    {
     "data": {
      "image/png": "[encoded data removed]",
      "text/plain": [
       "<Figure size 432x288 with 1 Axes>"
      ]
     },
     "metadata": {
      "needs_background": "light"
     },
     "output_type": "display_data"
    },
    {
     "data": {
      "image/png": "[encoded data removed]",
      "text/plain": [
       "<Figure size 432x288 with 1 Axes>"
      ]
     },
     "metadata": {
      "needs_background": "light"
     },
     "output_type": "display_data"
    },
    {
     "data": {
      "image/png": "[encoded data removed]",
      "text/plain": [
       "<Figure size 432x288 with 1 Axes>"
      ]
     },
     "metadata": {
      "needs_background": "light"
     },
     "output_type": "display_data"
    },
    {
     "data": {
      "image/png": "[encoded data removed]",
      "text/plain": [
       "<Figure size 432x288 with 1 Axes>"
      ]
     },
     "metadata": {
      "needs_background": "light"
     },
     "output_type": "display_data"
    }
   ],
   "source": [
    "#ROC curve \n",
    "##evaluando los modelos\n",
    "\n",
    "arbol_roc = metrics.plot_roc_curve(arbol_pre, \n",
    "                    X_test, \n",
    "                    y_test, \n",
    "                    label='Decision Tree')\n",
    "\n",
    "rf_roc = metrics.plot_roc_curve(rf, \n",
    "                    X_test, \n",
    "                    y_test, \n",
    "                    #ax=arbol_roc.ax_,\n",
    "                    label='Random Forest')\n",
    "\n",
    "gnb_roc = metrics.plot_roc_curve(gbc, \n",
    "                    X_test, \n",
    "                    y_test, \n",
    "                    #ax=arbol_roc.ax_,\n",
    "                    label='Gradient Boosting')\n",
    "\n",
    "nb_roc = metrics.plot_roc_curve(gnb, \n",
    "                    X_test, \n",
    "                    y_test, \n",
    "                    #ax=arbol_roc.ax_,\n",
    "                    label='Naive Bayes')\n",
    "plt.plot([(0,0), (1,1)], color='grey')\n",
    "plt.legend();"
   ]
  },
  {
   "cell_type": "code",
   "execution_count": 31,
   "id": "f3834a18",
   "metadata": {},
   "outputs": [
    {
     "name": "stderr",
     "output_type": "stream",
     "text": [
      "C:\\Users\\alder\\anaconda3\\lib\\site-packages\\sklearn\\utils\\deprecation.py:87: FutureWarning: Function plot_roc_curve is deprecated; Function `plot_roc_curve` is deprecated in 1.0 and will be removed in 1.2. Use one of the class methods: RocCurveDisplay.from_predictions or RocCurveDisplay.from_estimator.\n",
      "  warnings.warn(msg, category=FutureWarning)\n"
     ]
    },
    {
     "data": {
      "image/png": "[encoded data removed]",
      "text/plain": [
       "<Figure size 432x288 with 1 Axes>"
      ]
     },
     "metadata": {
      "needs_background": "light"
     },
     "output_type": "display_data"
    }
   ],
   "source": [
    "arbol_roc = metrics.plot_roc_curve(arbol_pre, \n",
    "                    X_test, \n",
    "                    y_test, \n",
    "                    label='Decision Tree')\n"
   ]
  },
  {
   "cell_type": "markdown",
   "id": "b29239c8",
   "metadata": {},
   "source": [
    "# Reportes"
   ]
  },
  {
   "cell_type": "markdown",
   "id": "1ce632f1",
   "metadata": {},
   "source": [
    "#### Decision Tree\n"
   ]
  },
  {
   "cell_type": "code",
   "execution_count": 46,
   "id": "325d6cd3",
   "metadata": {},
   "outputs": [
    {
     "name": "stdout",
     "output_type": "stream",
     "text": [
      "Decision Tree\n",
      "              precision    recall  f1-score   support\n",
      "\n",
      "           0       0.67      0.72      0.70    246456\n",
      "           1       0.64      0.59      0.61    210251\n",
      "\n",
      "    accuracy                           0.66    456707\n",
      "   macro avg       0.66      0.65      0.65    456707\n",
      "weighted avg       0.66      0.66      0.66    456707\n",
      "\n"
     ]
    }
   ],
   "source": [
    "print('Decision Tree')\n",
    "print(classification_report(y_test, arbol_pre.predict(X_test)))\n"
   ]
  },
  {
   "cell_type": "markdown",
   "id": "62889785",
   "metadata": {},
   "source": [
    "#### Random Forest "
   ]
  },
  {
   "cell_type": "code",
   "execution_count": 47,
   "id": "8c642716",
   "metadata": {},
   "outputs": [
    {
     "name": "stdout",
     "output_type": "stream",
     "text": [
      "Random Forest\n"
     ]
    },
    {
     "name": "stderr",
     "output_type": "stream",
     "text": [
      "[Parallel(n_jobs=1)]: Using backend SequentialBackend with 1 concurrent workers.\n",
      "[Parallel(n_jobs=1)]: Done   1 out of   1 | elapsed:    0.1s remaining:    0.0s\n",
      "[Parallel(n_jobs=1)]: Done   2 out of   2 | elapsed:    0.3s remaining:    0.0s\n",
      "[Parallel(n_jobs=1)]: Done 100 out of 100 | elapsed:   19.0s finished\n"
     ]
    },
    {
     "name": "stdout",
     "output_type": "stream",
     "text": [
      "              precision    recall  f1-score   support\n",
      "\n",
      "           0       0.67      0.72      0.69    246456\n",
      "           1       0.64      0.59      0.61    210251\n",
      "\n",
      "    accuracy                           0.66    456707\n",
      "   macro avg       0.66      0.65      0.65    456707\n",
      "weighted avg       0.66      0.66      0.66    456707\n",
      "\n"
     ]
    }
   ],
   "source": [
    "print('Random Forest')\n",
    "print(classification_report(y_test, rf.predict(X_test)))\n"
   ]
  },
  {
   "cell_type": "markdown",
   "id": "2c1b160e",
   "metadata": {},
   "source": [
    "#### Naive Bayes\n"
   ]
  },
  {
   "cell_type": "code",
   "execution_count": 48,
   "id": "edc400ce",
   "metadata": {},
   "outputs": [
    {
     "name": "stdout",
     "output_type": "stream",
     "text": [
      "Naive Bayes\n",
      "              precision    recall  f1-score   support\n",
      "\n",
      "           0       0.56      0.96      0.70    246456\n",
      "           1       0.69      0.10      0.18    210251\n",
      "\n",
      "    accuracy                           0.57    456707\n",
      "   macro avg       0.62      0.53      0.44    456707\n",
      "weighted avg       0.62      0.57      0.46    456707\n",
      "\n"
     ]
    }
   ],
   "source": [
    "print('Naive Bayes')\n",
    "print(classification_report(y_test, gnb.predict(X_test)))\n"
   ]
  },
  {
   "cell_type": "markdown",
   "id": "66647c6c",
   "metadata": {},
   "source": [
    "### Potenciacion del gradiente"
   ]
  },
  {
   "cell_type": "code",
   "execution_count": 35,
   "id": "262fe362",
   "metadata": {},
   "outputs": [
    {
     "name": "stdout",
     "output_type": "stream",
     "text": [
      "Potenciacion del gradiente\n",
      "              precision    recall  f1-score   support\n",
      "\n",
      "           0       0.67      0.68      0.67    246456\n",
      "           1       0.62      0.60      0.61    210251\n",
      "\n",
      "    accuracy                           0.64    456707\n",
      "   macro avg       0.64      0.64      0.64    456707\n",
      "weighted avg       0.64      0.64      0.64    456707\n",
      "\n"
     ]
    }
   ],
   "source": [
    "print('Potenciacion del gradiente')\n",
    "print(classification_report(y_test, gbc.predict(X_test)))\n"
   ]
  },
  {
   "cell_type": "markdown",
   "id": "914bee1d",
   "metadata": {},
   "source": [
    "### Clasificacion por votos"
   ]
  },
  {
   "cell_type": "code",
   "execution_count": 36,
   "id": "d8429954",
   "metadata": {
    "scrolled": true
   },
   "outputs": [
    {
     "name": "stdout",
     "output_type": "stream",
     "text": [
      "Potenciacion del gradiente\n"
     ]
    },
    {
     "name": "stderr",
     "output_type": "stream",
     "text": [
      "[Parallel(n_jobs=8)]: Using backend ThreadingBackend with 8 concurrent workers.\n",
      "[Parallel(n_jobs=8)]: Done  16 tasks      | elapsed:    1.1s\n",
      "[Parallel(n_jobs=8)]: Done 100 out of 100 | elapsed:    4.5s finished\n"
     ]
    },
    {
     "name": "stdout",
     "output_type": "stream",
     "text": [
      "              precision    recall  f1-score   support\n",
      "\n",
      "           0       0.67      0.72      0.70    246456\n",
      "           1       0.64      0.59      0.61    210251\n",
      "\n",
      "    accuracy                           0.66    456707\n",
      "   macro avg       0.66      0.65      0.65    456707\n",
      "weighted avg       0.66      0.66      0.66    456707\n",
      "\n"
     ]
    }
   ],
   "source": [
    "print('Potenciacion del gradiente')\n",
    "print(classification_report(y_test, vc.predict(X_test)))\n"
   ]
  },
  {
   "cell_type": "markdown",
   "id": "c8cdee6b",
   "metadata": {},
   "source": [
    "# Features importances - TOP 10\n",
    "Asignan una puntuación a las características de entrada en función de su utilidad para predecir una variable objetivo"
   ]
  },
  {
   "cell_type": "markdown",
   "id": "03cfec4e",
   "metadata": {},
   "source": [
    "### Decision Tree"
   ]
  },
  {
   "cell_type": "code",
   "execution_count": 120,
   "id": "d5bc6ef1",
   "metadata": {},
   "outputs": [
    {
     "name": "stdout",
     "output_type": "stream",
     "text": [
      "Ad Supported_True                     0.341969\n",
      "In App Purchases_False                0.083685\n",
      "In App Purchases_True                 0.069634\n",
      "Content Rating_Teen                   0.028550\n",
      "Category_Arcade                       0.027127\n",
      "Minimum Android_Varies with device    0.026275\n",
      "Category_Finance                      0.022488\n",
      "Category_Business                     0.017683\n",
      "Category_Food & Drink                 0.017484\n",
      "Content Rating_Everyone               0.016408\n",
      "dtype: float64\n"
     ]
    }
   ],
   "source": [
    "arbol_pre_fi = pd.Series(arbol_pre.feature_importances_, X_test.columns).sort_values(ascending=False)\n",
    "print (arbol_pre_fi[:10])\n"
   ]
  },
  {
   "cell_type": "markdown",
   "id": "3b1357cf",
   "metadata": {},
   "source": [
    "### Random Forest"
   ]
  },
  {
   "cell_type": "code",
   "execution_count": 121,
   "id": "665feebb",
   "metadata": {},
   "outputs": [
    {
     "name": "stdout",
     "output_type": "stream",
     "text": [
      "Ad Supported_False                    0.147481\n",
      "Ad Supported_True                     0.121861\n",
      "In App Purchases_True                 0.090538\n",
      "In App Purchases_False                0.082481\n",
      "Category_Business                     0.027183\n",
      "Minimum Android_Varies with device    0.024818\n",
      "Category_Arcade                       0.024590\n",
      "Category_Food & Drink                 0.023488\n",
      "Category_Finance                      0.019039\n",
      "Category_Music & Audio                0.018535\n",
      "dtype: float64\n"
     ]
    }
   ],
   "source": [
    "rf_fi = pd.Series(rf.feature_importances_, X_test.columns).sort_values(ascending=False)\n",
    "print (rf_fi[:10])\n"
   ]
  },
  {
   "cell_type": "markdown",
   "id": "baba43e8",
   "metadata": {},
   "source": [
    "### Gradient Bosting\n"
   ]
  },
  {
   "cell_type": "code",
   "execution_count": 119,
   "id": "23f51c8e",
   "metadata": {},
   "outputs": [
    {
     "name": "stdout",
     "output_type": "stream",
     "text": [
      "Ad Supported_True                     0.414450\n",
      "In App Purchases_True                 0.138020\n",
      "In App Purchases_False                0.070844\n",
      "Ad Supported_False                    0.038867\n",
      "Minimum Android_Varies with device    0.033862\n",
      "Category_Arcade                       0.033773\n",
      "Category_Finance                      0.024084\n",
      "Category_Food & Drink                 0.023817\n",
      "Category_Business                     0.020905\n",
      "Category_Simulation                   0.017893\n",
      "dtype: float64\n"
     ]
    }
   ],
   "source": [
    "gbc_fi =  pd.Series(gbc.feature_importances_, X_test.columns).sort_values(ascending=False)\n",
    "print (gbc_fi[:10])\n"
   ]
  },
  {
   "cell_type": "code",
   "execution_count": null,
   "id": "1809c55f",
   "metadata": {},
   "outputs": [],
   "source": []
  },
  {
   "cell_type": "markdown",
   "id": "79614924",
   "metadata": {},
   "source": [
    "###### Naive Bayes no tiene \"features importances\" "
   ]
  },
  {
   "cell_type": "markdown",
   "id": "d631724b",
   "metadata": {},
   "source": [
    "_________________________________________________________________________________________"
   ]
  },
  {
   "cell_type": "markdown",
   "id": "8af6888a",
   "metadata": {},
   "source": [
    "# Voting Classifier: Random Forest + Gradient Boosting Classifier + Decision Tree"
   ]
  },
  {
   "cell_type": "code",
   "execution_count": 14,
   "id": "511a8df0",
   "metadata": {},
   "outputs": [],
   "source": [
    "#Voting Classifier\n",
    "classifiers = [('Random Forest', rf), ('Gradient Boosting Classifier', gbc), ('Decision Tree',arbol_pre)]\n",
    "vc = VotingClassifier(estimators = classifiers, n_jobs=-1, verbose=True)\n"
   ]
  },
  {
   "cell_type": "code",
   "execution_count": 15,
   "id": "153675b4",
   "metadata": {},
   "outputs": [
    {
     "data": {
      "text/plain": [
       "VotingClassifier(estimators=[('Random Forest',\n",
       "                              RandomForestClassifier(n_jobs=-1, random_state=42,\n",
       "                                                     verbose=3)),\n",
       "                             ('Gradient Boosting Classifier',\n",
       "                              GradientBoostingClassifier(random_state=42,\n",
       "                                                         verbose=3)),\n",
       "                             ('Decision Tree', DecisionTreeClassifier())],\n",
       "                 n_jobs=-1, verbose=True)"
      ]
     },
     "execution_count": 15,
     "metadata": {},
     "output_type": "execute_result"
    }
   ],
   "source": [
    "vc.fit(X_train, y_train.values.ravel())\n"
   ]
  },
  {
   "cell_type": "code",
   "execution_count": 25,
   "id": "57a1a13f",
   "metadata": {},
   "outputs": [
    {
     "name": "stderr",
     "output_type": "stream",
     "text": [
      "[Parallel(n_jobs=8)]: Using backend ThreadingBackend with 8 concurrent workers.\n",
      "[Parallel(n_jobs=8)]: Done  16 tasks      | elapsed:    0.6s\n",
      "[Parallel(n_jobs=8)]: Done 100 out of 100 | elapsed:    3.8s finished\n"
     ]
    },
    {
     "name": "stdout",
     "output_type": "stream",
     "text": [
      "Voting Classifier Ensemble: 0.65946\n"
     ]
    }
   ],
   "source": [
    "y_pred = vc.predict(X_test)\n",
    "acc = accuracy_score(y_test.values.ravel(), y_pred)\n",
    "print(\"Voting Classifier Ensemble: {:.5f}\".format(acc))\n"
   ]
  },
  {
   "cell_type": "code",
   "execution_count": 26,
   "id": "7e4a5f7a",
   "metadata": {},
   "outputs": [
    {
     "name": "stdout",
     "output_type": "stream",
     "text": [
      "Voting Classifier\n",
      "Accuracy :  65.9457814309831\n",
      "Precision:  64.17922049655644\n",
      "Recall:  58.90388155109845\n"
     ]
    }
   ],
   "source": [
    "print('Voting Classifier')\n",
    "print(\"Accuracy : \" ,accuracy_score(y_true = y_test, y_pred = y_pred)*100)\n",
    "print(\"Precision: \" ,precision_score(y_true = y_test, y_pred = y_pred)*100)\n",
    "print(\"Recall: \" ,recall_score(y_true = y_test, y_pred = y_pred)*100)\n",
    "\n"
   ]
  },
  {
   "cell_type": "code",
   "execution_count": 6,
   "id": "08073426",
   "metadata": {
    "scrolled": true
   },
   "outputs": [
    {
     "name": "stderr",
     "output_type": "stream",
     "text": [
      "C:\\Users\\alder\\anaconda3\\lib\\site-packages\\sklearn\\utils\\deprecation.py:87: FutureWarning: Function plot_confusion_matrix is deprecated; Function `plot_confusion_matrix` is deprecated in 1.0 and will be removed in 1.2. Use one of the class methods: ConfusionMatrixDisplay.from_predictions or ConfusionMatrixDisplay.from_estimator.\n",
      "  warnings.warn(msg, category=FutureWarning)\n",
      "[Parallel(n_jobs=8)]: Using backend ThreadingBackend with 8 concurrent workers.\n",
      "[Parallel(n_jobs=8)]: Done  16 tasks      | elapsed:    0.6s\n",
      "[Parallel(n_jobs=8)]: Done 100 out of 100 | elapsed:    3.7s finished\n"
     ]
    },
    {
     "data": {
      "text/plain": [
       "Text(0.5, 1.0, 'Voting Classifier')"
      ]
     },
     "execution_count": 6,
     "metadata": {},
     "output_type": "execute_result"
    },
    {
     "data": {
      "image/png": "[encoded data removed]",
      "text/plain": [
       "<Figure size 432x288 with 2 Axes>"
      ]
     },
     "metadata": {
      "needs_background": "light"
     },
     "output_type": "display_data"
    }
   ],
   "source": [
    "plot_confusion_matrix(vc, X_test, y_test, display_labels= ['App no exitosa', 'App exitosa'])\n",
    "plt.title('Voting Classifier')"
   ]
  },
  {
   "cell_type": "markdown",
   "id": "5eabc7b0",
   "metadata": {},
   "source": [
    "Los modelos realizan las clasificaciones pero tienen baja precisión, para aumentarla se debe hacer una optimización de los parametros (gridcvs)  "
   ]
  }
 ],
 "metadata": {
  "kernelspec": {
   "display_name": "Python 3",
   "language": "python",
   "name": "python3"
  },
  "language_info": {
   "codemirror_mode": {
    "name": "ipython",
    "version": 3
   },
   "file_extension": ".py",
   "mimetype": "text/x-python",
   "name": "python",
   "nbconvert_exporter": "python",
   "pygments_lexer": "ipython3",
   "version": "3.8.8"
  }
 },
 "nbformat": 4,
 "nbformat_minor": 5
}
